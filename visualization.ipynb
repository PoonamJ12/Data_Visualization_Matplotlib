{
  "nbformat": 4,
  "nbformat_minor": 0,
  "metadata": {
    "colab": {
      "name": "visualization.ipynb",
      "provenance": [],
      "authorship_tag": "ABX9TyMjHz8/tJFBzbqTKBp6maFz",
      "include_colab_link": true
    },
    "kernelspec": {
      "name": "python3",
      "display_name": "Python 3"
    },
    "language_info": {
      "name": "python"
    }
  },
  "cells": [
    {
      "cell_type": "markdown",
      "metadata": {
        "id": "view-in-github",
        "colab_type": "text"
      },
      "source": [
        "<a href=\"https://colab.research.google.com/github/PoonamJ12/Data_Visualization_Matplotlib/blob/main/visualization.ipynb\" target=\"_parent\"><img src=\"https://colab.research.google.com/assets/colab-badge.svg\" alt=\"Open In Colab\"/></a>"
      ]
    },
    {
      "cell_type": "code",
      "metadata": {
        "colab": {
          "base_uri": "https://localhost:8080/",
          "height": 206
        },
        "id": "ArgnLkIbYyT_",
        "outputId": "bdfe6c15-56b6-46e3-b473-23d6b5849b07"
      },
      "source": [
        "import pandas as pd\n",
        "df_food = pd.read_csv('/content/Country_Code.csv') \n",
        "df_food.head()\n"
      ],
      "execution_count": 2,
      "outputs": [
        {
          "output_type": "execute_result",
          "data": {
            "text/html": [
              "<div>\n",
              "<style scoped>\n",
              "    .dataframe tbody tr th:only-of-type {\n",
              "        vertical-align: middle;\n",
              "    }\n",
              "\n",
              "    .dataframe tbody tr th {\n",
              "        vertical-align: top;\n",
              "    }\n",
              "\n",
              "    .dataframe thead th {\n",
              "        text-align: right;\n",
              "    }\n",
              "</style>\n",
              "<table border=\"1\" class=\"dataframe\">\n",
              "  <thead>\n",
              "    <tr style=\"text-align: right;\">\n",
              "      <th></th>\n",
              "      <th>sno</th>\n",
              "      <th>country</th>\n",
              "      <th>ISO-2-CODE</th>\n",
              "      <th>ISO-3-CODE</th>\n",
              "      <th>ISO-M49</th>\n",
              "    </tr>\n",
              "  </thead>\n",
              "  <tbody>\n",
              "    <tr>\n",
              "      <th>0</th>\n",
              "      <td>0</td>\n",
              "      <td>Afghanistan</td>\n",
              "      <td>AF</td>\n",
              "      <td>AFG</td>\n",
              "      <td>4</td>\n",
              "    </tr>\n",
              "    <tr>\n",
              "      <th>1</th>\n",
              "      <td>1</td>\n",
              "      <td>Aland  Islands</td>\n",
              "      <td>AX</td>\n",
              "      <td>ALA</td>\n",
              "      <td>248</td>\n",
              "    </tr>\n",
              "    <tr>\n",
              "      <th>2</th>\n",
              "      <td>2</td>\n",
              "      <td>Albania</td>\n",
              "      <td>AL</td>\n",
              "      <td>ALB</td>\n",
              "      <td>8</td>\n",
              "    </tr>\n",
              "    <tr>\n",
              "      <th>3</th>\n",
              "      <td>3</td>\n",
              "      <td>Algeria</td>\n",
              "      <td>DZ</td>\n",
              "      <td>DZA</td>\n",
              "      <td>12</td>\n",
              "    </tr>\n",
              "    <tr>\n",
              "      <th>4</th>\n",
              "      <td>4</td>\n",
              "      <td>American Samoa</td>\n",
              "      <td>AS</td>\n",
              "      <td>ASM</td>\n",
              "      <td>16</td>\n",
              "    </tr>\n",
              "  </tbody>\n",
              "</table>\n",
              "</div>"
            ],
            "text/plain": [
              "   sno         country ISO-2-CODE ISO-3-CODE  ISO-M49\n",
              "0    0     Afghanistan         AF        AFG        4\n",
              "1    1  Aland  Islands         AX        ALA      248\n",
              "2    2         Albania         AL        ALB        8\n",
              "3    3         Algeria         DZ        DZA       12\n",
              "4    4  American Samoa         AS        ASM       16"
            ]
          },
          "metadata": {},
          "execution_count": 2
        }
      ]
    },
    {
      "cell_type": "code",
      "metadata": {
        "colab": {
          "base_uri": "https://localhost:8080/",
          "height": 925
        },
        "id": "Li0AvOKYZM04",
        "outputId": "e267f1fa-fb38-46dc-b0fe-7f927f4eb48e"
      },
      "source": [
        "#bar graph\n",
        "\n",
        "import pandas as pd \n",
        "import numpy as np \n",
        "import matplotlib.pyplot as plt\n",
        "data=pd.read_csv('/content/Country_Code.csv')\n",
        "print(data)\n",
        "countryname=data[\"country\"]\n",
        "currency=data[\"ISO-M49\"]\n",
        "x=[]\n",
        "y=[]\n",
        "x=list(countryname)\n",
        "y=list(currency)\n",
        "print(x)\n",
        "print(y)\n",
        "#plt.bar(x,y)\n",
        "plt.scatter(x,y)\n",
        "plt.xlabel('countryname->')\n",
        "plt.ylabel('currency->')\n",
        "plt.title('DATA')\n",
        "plt.show()\n",
        "plt.pie(y,labels=x,autopct='%.2f%%')\n"
      ],
      "execution_count": 40,
      "outputs": [
        {
          "output_type": "stream",
          "name": "stdout",
          "text": [
            "   sno         country ISO-2-CODE ISO-3-CODE  ISO-M49\n",
            "0    0     Afghanistan         AF        AFG        4\n",
            "1    1  Aland  Islands         AX        ALA      248\n",
            "2    2         Albania         AL        ALB        8\n",
            "3    3         Algeria         DZ        DZA       12\n",
            "4    4  American Samoa         AS        ASM       16\n",
            "['Afghanistan', 'Aland  Islands', 'Albania', 'Algeria', 'American Samoa']\n",
            "[4, 248, 8, 12, 16]\n"
          ]
        },
        {
          "output_type": "display_data",
          "data": {
            "image/png": "[encoded data removed]",
            "text/plain": [
              "<Figure size 432x288 with 1 Axes>"
            ]
          },
          "metadata": {
            "needs_background": "light"
          }
        },
        {
          "output_type": "execute_result",
          "data": {
            "text/plain": [
              "([<matplotlib.patches.Wedge at 0x7f11ed496990>,\n",
              "  <matplotlib.patches.Wedge at 0x7f11ed405410>,\n",
              "  <matplotlib.patches.Wedge at 0x7f11ed405e90>,\n",
              "  <matplotlib.patches.Wedge at 0x7f11ed4772d0>,\n",
              "  <matplotlib.patches.Wedge at 0x7f11ed3579d0>],\n",
              " [Text(1.0989530437244452, 0.04798132645913144, 'Afghanistan'),\n",
              "  Text(-1.0336618752814555, 0.37622217849247674, 'Aland  Islands'),\n",
              "  Text(0.8426488589279546, -0.7070664046236509, 'Albania'),\n",
              "  Text(0.975711898332588, -0.50792350945021, 'Algeria'),\n",
              "  Text(1.0832885224763131, -0.1910130285375486, 'American Samoa')],\n",
              " [Text(0.5994289329406064, 0.02617163261407169, '1.39%'),\n",
              "  Text(-0.5638155683353393, 0.20521209735953275, '86.11%'),\n",
              "  Text(0.4596266503243388, -0.38567258434017315, '2.78%'),\n",
              "  Text(0.5322064899995934, -0.2770491869728418, '4.17%'),\n",
              "  Text(0.5908846486234435, -0.10418892465684468, '5.56%')])"
            ]
          },
          "metadata": {},
          "execution_count": 40
        },
        {
          "output_type": "display_data",
          "data": {
            "image/png": "[encoded data removed]",
            "text/plain": [
              "<Figure size 432x288 with 1 Axes>"
            ]
          },
          "metadata": {}
        }
      ]
    },
    {
      "cell_type": "code",
      "metadata": {
        "id": "f_GaojV9aly_"
      },
      "source": [
        ""
      ],
      "execution_count": null,
      "outputs": []
    }
  ]
}